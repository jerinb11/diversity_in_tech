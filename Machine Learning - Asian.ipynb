{
 "cells": [
  {
   "cell_type": "code",
   "execution_count": 1,
   "metadata": {},
   "outputs": [],
   "source": [
    "import seaborn as sns\n",
    "%matplotlib inline\n",
    "import numpy as np\n",
    "import pandas as pd\n",
    "import pandas as pd\n",
    "import scipy.stats as stats\n",
    "import matplotlib.pyplot as plt\n",
    "import seaborn as sb\n",
    "import sklearn\n",
    "import seaborn as seabornInstance \n",
    "from sklearn import linear_model\n",
    "from sklearn.datasets import load_boston\n",
    "from sklearn.linear_model import LinearRegression\n",
    "from sklearn.preprocessing import scale\n",
    "from sklearn.preprocessing import Normalizer\n",
    "from collections import Counter\n",
    "import statsmodels.api as sm\n",
    "# from timeseries import WindowSlider"
   ]
  },
  {
   "cell_type": "code",
   "execution_count": 2,
   "metadata": {},
   "outputs": [
    {
     "data": {
      "text/html": [
       "<div>\n",
       "<style scoped>\n",
       "    .dataframe tbody tr th:only-of-type {\n",
       "        vertical-align: middle;\n",
       "    }\n",
       "\n",
       "    .dataframe tbody tr th {\n",
       "        vertical-align: top;\n",
       "    }\n",
       "\n",
       "    .dataframe thead th {\n",
       "        text-align: right;\n",
       "    }\n",
       "</style>\n",
       "<table border=\"1\" class=\"dataframe\">\n",
       "  <thead>\n",
       "    <tr style=\"text-align: right;\">\n",
       "      <th></th>\n",
       "      <th>Occupation</th>\n",
       "      <th>Total_employed</th>\n",
       "      <th>20_to_24_years</th>\n",
       "      <th>25_to_34_years</th>\n",
       "      <th>35_to_44_years</th>\n",
       "      <th>45_to_54_years</th>\n",
       "      <th>55_to_64_years</th>\n",
       "      <th>Number_of_workers</th>\n",
       "      <th>Median_weekly_earnings</th>\n",
       "      <th>Men_Number_of_workers</th>\n",
       "      <th>Men_Median_weekly_earnings</th>\n",
       "      <th>Women_Number_of_workers</th>\n",
       "      <th>Women_Median_weekly_earnings</th>\n",
       "      <th>Black</th>\n",
       "      <th>Asian</th>\n",
       "      <th>Hispanic_or_Latino</th>\n",
       "      <th>Year</th>\n",
       "    </tr>\n",
       "  </thead>\n",
       "  <tbody>\n",
       "    <tr>\n",
       "      <td>0</td>\n",
       "      <td>Computer and information systems managers</td>\n",
       "      <td>553</td>\n",
       "      <td>10</td>\n",
       "      <td>103</td>\n",
       "      <td>199</td>\n",
       "      <td>162</td>\n",
       "      <td>74</td>\n",
       "      <td>530</td>\n",
       "      <td>1579</td>\n",
       "      <td>392</td>\n",
       "      <td>1595</td>\n",
       "      <td>138</td>\n",
       "      <td>1543</td>\n",
       "      <td>5.7</td>\n",
       "      <td>12.9</td>\n",
       "      <td>3.8</td>\n",
       "      <td>2011</td>\n",
       "    </tr>\n",
       "    <tr>\n",
       "      <td>1</td>\n",
       "      <td>Web developers</td>\n",
       "      <td>182</td>\n",
       "      <td>20</td>\n",
       "      <td>61</td>\n",
       "      <td>58</td>\n",
       "      <td>28</td>\n",
       "      <td>12</td>\n",
       "      <td>117</td>\n",
       "      <td>1017</td>\n",
       "      <td>81</td>\n",
       "      <td>1033</td>\n",
       "      <td>35</td>\n",
       "      <td>0</td>\n",
       "      <td>5.9</td>\n",
       "      <td>11.1</td>\n",
       "      <td>6.9</td>\n",
       "      <td>2011</td>\n",
       "    </tr>\n",
       "    <tr>\n",
       "      <td>2</td>\n",
       "      <td>Computer and information research scientists</td>\n",
       "      <td>20</td>\n",
       "      <td>3</td>\n",
       "      <td>7</td>\n",
       "      <td>5</td>\n",
       "      <td>3</td>\n",
       "      <td>2</td>\n",
       "      <td>19</td>\n",
       "      <td>0</td>\n",
       "      <td>17</td>\n",
       "      <td>0</td>\n",
       "      <td>2</td>\n",
       "      <td>0</td>\n",
       "      <td>0.0</td>\n",
       "      <td>0.0</td>\n",
       "      <td>0.0</td>\n",
       "      <td>2011</td>\n",
       "    </tr>\n",
       "    <tr>\n",
       "      <td>3</td>\n",
       "      <td>Computer systems analysts</td>\n",
       "      <td>447</td>\n",
       "      <td>12</td>\n",
       "      <td>109</td>\n",
       "      <td>113</td>\n",
       "      <td>133</td>\n",
       "      <td>64</td>\n",
       "      <td>373</td>\n",
       "      <td>1328</td>\n",
       "      <td>242</td>\n",
       "      <td>1410</td>\n",
       "      <td>132</td>\n",
       "      <td>1144</td>\n",
       "      <td>7.1</td>\n",
       "      <td>14.9</td>\n",
       "      <td>4.4</td>\n",
       "      <td>2011</td>\n",
       "    </tr>\n",
       "    <tr>\n",
       "      <td>4</td>\n",
       "      <td>Computer occupations, all other</td>\n",
       "      <td>306</td>\n",
       "      <td>21</td>\n",
       "      <td>81</td>\n",
       "      <td>74</td>\n",
       "      <td>81</td>\n",
       "      <td>37</td>\n",
       "      <td>282</td>\n",
       "      <td>1127</td>\n",
       "      <td>221</td>\n",
       "      <td>1165</td>\n",
       "      <td>61</td>\n",
       "      <td>998</td>\n",
       "      <td>8.8</td>\n",
       "      <td>11.9</td>\n",
       "      <td>6.5</td>\n",
       "      <td>2011</td>\n",
       "    </tr>\n",
       "    <tr>\n",
       "      <td>...</td>\n",
       "      <td>...</td>\n",
       "      <td>...</td>\n",
       "      <td>...</td>\n",
       "      <td>...</td>\n",
       "      <td>...</td>\n",
       "      <td>...</td>\n",
       "      <td>...</td>\n",
       "      <td>...</td>\n",
       "      <td>...</td>\n",
       "      <td>...</td>\n",
       "      <td>...</td>\n",
       "      <td>...</td>\n",
       "      <td>...</td>\n",
       "      <td>...</td>\n",
       "      <td>...</td>\n",
       "      <td>...</td>\n",
       "      <td>...</td>\n",
       "    </tr>\n",
       "    <tr>\n",
       "      <td>121</td>\n",
       "      <td>Network and computer systems administrators</td>\n",
       "      <td>199</td>\n",
       "      <td>8</td>\n",
       "      <td>48</td>\n",
       "      <td>65</td>\n",
       "      <td>50</td>\n",
       "      <td>25</td>\n",
       "      <td>194</td>\n",
       "      <td>1447</td>\n",
       "      <td>144</td>\n",
       "      <td>1541</td>\n",
       "      <td>50</td>\n",
       "      <td>1233</td>\n",
       "      <td>9.7</td>\n",
       "      <td>11.7</td>\n",
       "      <td>8.5</td>\n",
       "      <td>2019</td>\n",
       "    </tr>\n",
       "    <tr>\n",
       "      <td>122</td>\n",
       "      <td>Database administrators</td>\n",
       "      <td>106</td>\n",
       "      <td>5</td>\n",
       "      <td>21</td>\n",
       "      <td>29</td>\n",
       "      <td>27</td>\n",
       "      <td>18</td>\n",
       "      <td>96</td>\n",
       "      <td>1642</td>\n",
       "      <td>67</td>\n",
       "      <td>1752</td>\n",
       "      <td>29</td>\n",
       "      <td>0</td>\n",
       "      <td>6.8</td>\n",
       "      <td>16.7</td>\n",
       "      <td>6.2</td>\n",
       "      <td>2019</td>\n",
       "    </tr>\n",
       "    <tr>\n",
       "      <td>123</td>\n",
       "      <td>Computer support specialists</td>\n",
       "      <td>547</td>\n",
       "      <td>36</td>\n",
       "      <td>158</td>\n",
       "      <td>145</td>\n",
       "      <td>119</td>\n",
       "      <td>68</td>\n",
       "      <td>486</td>\n",
       "      <td>1192</td>\n",
       "      <td>365</td>\n",
       "      <td>1223</td>\n",
       "      <td>121</td>\n",
       "      <td>1103</td>\n",
       "      <td>10.5</td>\n",
       "      <td>12.7</td>\n",
       "      <td>11.3</td>\n",
       "      <td>2019</td>\n",
       "    </tr>\n",
       "    <tr>\n",
       "      <td>124</td>\n",
       "      <td>Computer programmers</td>\n",
       "      <td>454</td>\n",
       "      <td>19</td>\n",
       "      <td>117</td>\n",
       "      <td>105</td>\n",
       "      <td>116</td>\n",
       "      <td>72</td>\n",
       "      <td>425</td>\n",
       "      <td>1586</td>\n",
       "      <td>343</td>\n",
       "      <td>1613</td>\n",
       "      <td>82</td>\n",
       "      <td>1463</td>\n",
       "      <td>8.5</td>\n",
       "      <td>21.8</td>\n",
       "      <td>8.7</td>\n",
       "      <td>2019</td>\n",
       "    </tr>\n",
       "    <tr>\n",
       "      <td>125</td>\n",
       "      <td>Information security analysts</td>\n",
       "      <td>125</td>\n",
       "      <td>12</td>\n",
       "      <td>46</td>\n",
       "      <td>31</td>\n",
       "      <td>18</td>\n",
       "      <td>15</td>\n",
       "      <td>128</td>\n",
       "      <td>1758</td>\n",
       "      <td>103</td>\n",
       "      <td>1875</td>\n",
       "      <td>25</td>\n",
       "      <td>0</td>\n",
       "      <td>16.6</td>\n",
       "      <td>7.6</td>\n",
       "      <td>12.9</td>\n",
       "      <td>2019</td>\n",
       "    </tr>\n",
       "  </tbody>\n",
       "</table>\n",
       "<p>126 rows × 17 columns</p>\n",
       "</div>"
      ],
      "text/plain": [
       "                                       Occupation  Total_employed  \\\n",
       "0       Computer and information systems managers             553   \n",
       "1                                  Web developers             182   \n",
       "2    Computer and information research scientists              20   \n",
       "3                       Computer systems analysts             447   \n",
       "4                 Computer occupations, all other             306   \n",
       "..                                            ...             ...   \n",
       "121   Network and computer systems administrators             199   \n",
       "122                       Database administrators             106   \n",
       "123                  Computer support specialists             547   \n",
       "124                          Computer programmers             454   \n",
       "125                 Information security analysts             125   \n",
       "\n",
       "     20_to_24_years  25_to_34_years  35_to_44_years  45_to_54_years  \\\n",
       "0                10             103             199             162   \n",
       "1                20              61              58              28   \n",
       "2                 3               7               5               3   \n",
       "3                12             109             113             133   \n",
       "4                21              81              74              81   \n",
       "..              ...             ...             ...             ...   \n",
       "121               8              48              65              50   \n",
       "122               5              21              29              27   \n",
       "123              36             158             145             119   \n",
       "124              19             117             105             116   \n",
       "125              12              46              31              18   \n",
       "\n",
       "     55_to_64_years  Number_of_workers  Median_weekly_earnings  \\\n",
       "0                74                530                    1579   \n",
       "1                12                117                    1017   \n",
       "2                 2                 19                       0   \n",
       "3                64                373                    1328   \n",
       "4                37                282                    1127   \n",
       "..              ...                ...                     ...   \n",
       "121              25                194                    1447   \n",
       "122              18                 96                    1642   \n",
       "123              68                486                    1192   \n",
       "124              72                425                    1586   \n",
       "125              15                128                    1758   \n",
       "\n",
       "     Men_Number_of_workers  Men_Median_weekly_earnings  \\\n",
       "0                      392                        1595   \n",
       "1                       81                        1033   \n",
       "2                       17                           0   \n",
       "3                      242                        1410   \n",
       "4                      221                        1165   \n",
       "..                     ...                         ...   \n",
       "121                    144                        1541   \n",
       "122                     67                        1752   \n",
       "123                    365                        1223   \n",
       "124                    343                        1613   \n",
       "125                    103                        1875   \n",
       "\n",
       "     Women_Number_of_workers  Women_Median_weekly_earnings  Black  Asian  \\\n",
       "0                        138                          1543    5.7   12.9   \n",
       "1                         35                             0    5.9   11.1   \n",
       "2                          2                             0    0.0    0.0   \n",
       "3                        132                          1144    7.1   14.9   \n",
       "4                         61                           998    8.8   11.9   \n",
       "..                       ...                           ...    ...    ...   \n",
       "121                       50                          1233    9.7   11.7   \n",
       "122                       29                             0    6.8   16.7   \n",
       "123                      121                          1103   10.5   12.7   \n",
       "124                       82                          1463    8.5   21.8   \n",
       "125                       25                             0   16.6    7.6   \n",
       "\n",
       "     Hispanic_or_Latino  Year  \n",
       "0                   3.8  2011  \n",
       "1                   6.9  2011  \n",
       "2                   0.0  2011  \n",
       "3                   4.4  2011  \n",
       "4                   6.5  2011  \n",
       "..                  ...   ...  \n",
       "121                 8.5  2019  \n",
       "122                 6.2  2019  \n",
       "123                11.3  2019  \n",
       "124                 8.7  2019  \n",
       "125                12.9  2019  \n",
       "\n",
       "[126 rows x 17 columns]"
      ]
     },
     "execution_count": 2,
     "metadata": {},
     "output_type": "execute_result"
    }
   ],
   "source": [
    "# import CSV files (2019-2011)\n",
    "dfs = []\n",
    "for i in range (11,20):\n",
    "    file_path = f\"sof_dev_data/20{i}_data.csv\"\n",
    "    df = pd.read_csv(file_path)\n",
    "    df[\"Year\"] = f\"20{i}\"\n",
    "    dfs.append(df)\n",
    "combined_df = pd.concat(dfs, ignore_index=True)\n",
    "combined_df"
   ]
  },
  {
   "cell_type": "code",
   "execution_count": 3,
   "metadata": {},
   "outputs": [],
   "source": [
    "sd_df = combined_df.loc[combined_df[\"Occupation\"]==\"Software developers, applications and systems software\"]\n",
    "sd_df = sd_df.drop(columns=['Number_of_workers','Men_Median_weekly_earnings','Men_Number_of_workers',\\\n",
    "                          'Women_Median_weekly_earnings','Women_Number_of_workers','Occupation'])\n",
    "# sd_df = sd_df.iloc[:, 1:] used to drop the first column, when 'Number of workers' couldn't be removed --fixed .csv "
   ]
  },
  {
   "cell_type": "code",
   "execution_count": 4,
   "metadata": {},
   "outputs": [],
   "source": [
    "# print relationships between data\n",
    "# sb.pairplot(sd_df)"
   ]
  },
  {
   "cell_type": "code",
   "execution_count": 5,
   "metadata": {},
   "outputs": [
    {
     "data": {
      "image/png": "[encoded data removed]",
      "text/plain": [
       "<Figure size 1152x720 with 1 Axes>"
      ]
     },
     "metadata": {
      "needs_background": "light"
     },
     "output_type": "display_data"
    }
   ],
   "source": [
    "df1 = sd_df.head(16)\n",
    "df1.plot(kind='bar',figsize=(16,10))\n",
    "plt.grid(which='major', linestyle='-', linewidth='0.5', color='green')\n",
    "plt.grid(which='minor', linestyle=':', linewidth='0.5', color='black')\n",
    "plt.show()"
   ]
  },
  {
   "cell_type": "code",
   "execution_count": 6,
   "metadata": {},
   "outputs": [
    {
     "data": {
      "text/html": [
       "<div>\n",
       "<style scoped>\n",
       "    .dataframe tbody tr th:only-of-type {\n",
       "        vertical-align: middle;\n",
       "    }\n",
       "\n",
       "    .dataframe tbody tr th {\n",
       "        vertical-align: top;\n",
       "    }\n",
       "\n",
       "    .dataframe thead th {\n",
       "        text-align: right;\n",
       "    }\n",
       "</style>\n",
       "<table border=\"1\" class=\"dataframe\">\n",
       "  <thead>\n",
       "    <tr style=\"text-align: right;\">\n",
       "      <th></th>\n",
       "      <th>Total_employed</th>\n",
       "      <th>20_to_24_years</th>\n",
       "      <th>25_to_34_years</th>\n",
       "      <th>35_to_44_years</th>\n",
       "      <th>45_to_54_years</th>\n",
       "      <th>55_to_64_years</th>\n",
       "      <th>Median_weekly_earnings</th>\n",
       "      <th>Black</th>\n",
       "      <th>Asian</th>\n",
       "      <th>Hispanic_or_Latino</th>\n",
       "      <th>Year</th>\n",
       "    </tr>\n",
       "  </thead>\n",
       "  <tbody>\n",
       "    <tr>\n",
       "      <td>7</td>\n",
       "      <td>1044</td>\n",
       "      <td>44</td>\n",
       "      <td>331</td>\n",
       "      <td>340</td>\n",
       "      <td>230</td>\n",
       "      <td>87</td>\n",
       "      <td>1558</td>\n",
       "      <td>4.8</td>\n",
       "      <td>27.1</td>\n",
       "      <td>4.6</td>\n",
       "      <td>2011</td>\n",
       "    </tr>\n",
       "    <tr>\n",
       "      <td>21</td>\n",
       "      <td>1084</td>\n",
       "      <td>53</td>\n",
       "      <td>338</td>\n",
       "      <td>348</td>\n",
       "      <td>226</td>\n",
       "      <td>102</td>\n",
       "      <td>1591</td>\n",
       "      <td>4.0</td>\n",
       "      <td>29.4</td>\n",
       "      <td>5.2</td>\n",
       "      <td>2012</td>\n",
       "    </tr>\n",
       "    <tr>\n",
       "      <td>35</td>\n",
       "      <td>1103</td>\n",
       "      <td>49</td>\n",
       "      <td>332</td>\n",
       "      <td>320</td>\n",
       "      <td>260</td>\n",
       "      <td>117</td>\n",
       "      <td>1643</td>\n",
       "      <td>4.1</td>\n",
       "      <td>28.8</td>\n",
       "      <td>5.3</td>\n",
       "      <td>2013</td>\n",
       "    </tr>\n",
       "    <tr>\n",
       "      <td>49</td>\n",
       "      <td>1235</td>\n",
       "      <td>64</td>\n",
       "      <td>373</td>\n",
       "      <td>360</td>\n",
       "      <td>290</td>\n",
       "      <td>121</td>\n",
       "      <td>1693</td>\n",
       "      <td>5.3</td>\n",
       "      <td>31.9</td>\n",
       "      <td>5.2</td>\n",
       "      <td>2014</td>\n",
       "    </tr>\n",
       "    <tr>\n",
       "      <td>63</td>\n",
       "      <td>1353</td>\n",
       "      <td>74</td>\n",
       "      <td>438</td>\n",
       "      <td>387</td>\n",
       "      <td>280</td>\n",
       "      <td>148</td>\n",
       "      <td>1682</td>\n",
       "      <td>5.0</td>\n",
       "      <td>33.8</td>\n",
       "      <td>5.4</td>\n",
       "      <td>2015</td>\n",
       "    </tr>\n",
       "    <tr>\n",
       "      <td>77</td>\n",
       "      <td>1483</td>\n",
       "      <td>79</td>\n",
       "      <td>490</td>\n",
       "      <td>404</td>\n",
       "      <td>302</td>\n",
       "      <td>168</td>\n",
       "      <td>1776</td>\n",
       "      <td>4.1</td>\n",
       "      <td>35.7</td>\n",
       "      <td>4.8</td>\n",
       "      <td>2016</td>\n",
       "    </tr>\n",
       "    <tr>\n",
       "      <td>91</td>\n",
       "      <td>1536</td>\n",
       "      <td>80</td>\n",
       "      <td>526</td>\n",
       "      <td>433</td>\n",
       "      <td>277</td>\n",
       "      <td>175</td>\n",
       "      <td>1792</td>\n",
       "      <td>5.6</td>\n",
       "      <td>32.4</td>\n",
       "      <td>6.2</td>\n",
       "      <td>2017</td>\n",
       "    </tr>\n",
       "    <tr>\n",
       "      <td>105</td>\n",
       "      <td>1682</td>\n",
       "      <td>99</td>\n",
       "      <td>595</td>\n",
       "      <td>462</td>\n",
       "      <td>291</td>\n",
       "      <td>200</td>\n",
       "      <td>1864</td>\n",
       "      <td>3.9</td>\n",
       "      <td>35.4</td>\n",
       "      <td>5.3</td>\n",
       "      <td>2018</td>\n",
       "    </tr>\n",
       "    <tr>\n",
       "      <td>119</td>\n",
       "      <td>1815</td>\n",
       "      <td>111</td>\n",
       "      <td>640</td>\n",
       "      <td>496</td>\n",
       "      <td>313</td>\n",
       "      <td>195</td>\n",
       "      <td>1894</td>\n",
       "      <td>5.8</td>\n",
       "      <td>37.7</td>\n",
       "      <td>5.1</td>\n",
       "      <td>2019</td>\n",
       "    </tr>\n",
       "  </tbody>\n",
       "</table>\n",
       "</div>"
      ],
      "text/plain": [
       "     Total_employed  20_to_24_years  25_to_34_years  35_to_44_years  \\\n",
       "7              1044              44             331             340   \n",
       "21             1084              53             338             348   \n",
       "35             1103              49             332             320   \n",
       "49             1235              64             373             360   \n",
       "63             1353              74             438             387   \n",
       "77             1483              79             490             404   \n",
       "91             1536              80             526             433   \n",
       "105            1682              99             595             462   \n",
       "119            1815             111             640             496   \n",
       "\n",
       "     45_to_54_years  55_to_64_years  Median_weekly_earnings  Black  Asian  \\\n",
       "7               230              87                    1558    4.8   27.1   \n",
       "21              226             102                    1591    4.0   29.4   \n",
       "35              260             117                    1643    4.1   28.8   \n",
       "49              290             121                    1693    5.3   31.9   \n",
       "63              280             148                    1682    5.0   33.8   \n",
       "77              302             168                    1776    4.1   35.7   \n",
       "91              277             175                    1792    5.6   32.4   \n",
       "105             291             200                    1864    3.9   35.4   \n",
       "119             313             195                    1894    5.8   37.7   \n",
       "\n",
       "     Hispanic_or_Latino  Year  \n",
       "7                   4.6  2011  \n",
       "21                  5.2  2012  \n",
       "35                  5.3  2013  \n",
       "49                  5.2  2014  \n",
       "63                  5.4  2015  \n",
       "77                  4.8  2016  \n",
       "91                  6.2  2017  \n",
       "105                 5.3  2018  \n",
       "119                 5.1  2019  "
      ]
     },
     "execution_count": 6,
     "metadata": {},
     "output_type": "execute_result"
    }
   ],
   "source": [
    "sd_df"
   ]
  },
  {
   "cell_type": "markdown",
   "metadata": {},
   "source": [
    "# Asian (%) Prediction"
   ]
  },
  {
   "cell_type": "code",
   "execution_count": 7,
   "metadata": {},
   "outputs": [],
   "source": [
    "X = sd_df.drop(columns=['Asian','Total_employed'])\n",
    "y = sd_df['Asian']"
   ]
  },
  {
   "cell_type": "code",
   "execution_count": 8,
   "metadata": {},
   "outputs": [
    {
     "data": {
      "text/plain": [
       "LinearRegression(copy_X=True, fit_intercept=True, n_jobs=None, normalize=False)"
      ]
     },
     "execution_count": 8,
     "metadata": {},
     "output_type": "execute_result"
    }
   ],
   "source": [
    "# train models\n",
    "linreg = linear_model.LinearRegression()\n",
    "# linreg.fit(sd_df[['Year','20_to_24_years','25_to_34_years','35_to_44_years','45_to_54_years','55_to_64_years','Median_weekly_earnings']],sd_df.Asian)\n",
    "linreg.fit(X, y)"
   ]
  },
  {
   "cell_type": "code",
   "execution_count": 9,
   "metadata": {},
   "outputs": [
    {
     "name": "stdout",
     "output_type": "stream",
     "text": [
      "Intercept: \n",
      " -16593.79190823335\n",
      "Coefficients: \n",
      " [-0.32840858 -0.0634556   0.22742781  0.13658354 -0.21675926 -0.0966532\n",
      " -4.47297314 -1.73015761  8.32743846]\n",
      "1.0\n"
     ]
    }
   ],
   "source": [
    "print('Intercept: \\n', linreg.intercept_)\n",
    "print('Coefficients: \\n', linreg.coef_)\n",
    "y_pred = linreg.score(X, y)\n",
    "print(y_pred)"
   ]
  },
  {
   "cell_type": "code",
   "execution_count": 10,
   "metadata": {},
   "outputs": [],
   "source": [
    "# sd_df = pd.DataFrame({'Actual': y_test, 'Predicted': y_pred})\n",
    "# sd_df = sd_df.head(25)"
   ]
  },
  {
   "cell_type": "code",
   "execution_count": 11,
   "metadata": {},
   "outputs": [],
   "source": [
    "from sklearn.model_selection import train_test_split"
   ]
  },
  {
   "cell_type": "code",
   "execution_count": 12,
   "metadata": {},
   "outputs": [],
   "source": [
    "# Split data\n",
    "X_train, X_test, y_train, y_test = train_test_split(X, y, test_size=0.2, random_state=0)"
   ]
  },
  {
   "cell_type": "code",
   "execution_count": 13,
   "metadata": {},
   "outputs": [
    {
     "name": "stdout",
     "output_type": "stream",
     "text": [
      "(7, 9)\n",
      "(7,)\n",
      "(2, 9)\n",
      "(2,)\n"
     ]
    }
   ],
   "source": [
    "print(X_train.shape)\n",
    "print(y_train.shape)\n",
    "print(X_test.shape)\n",
    "print(y_test.shape)"
   ]
  },
  {
   "cell_type": "code",
   "execution_count": 14,
   "metadata": {},
   "outputs": [
    {
     "data": {
      "image/png": "[encoded data removed]",
      "text/plain": [
       "<Figure size 432x288 with 1 Axes>"
      ]
     },
     "metadata": {
      "needs_background": "light"
     },
     "output_type": "display_data"
    }
   ],
   "source": [
    "sd_df.plot(x='Year', y='Asian', style='o')  \n",
    "plt.title('Predict Race:')  \n",
    "plt.xlabel('Year')  \n",
    "plt.ylabel('Asian (%)')  \n",
    "plt.show()"
   ]
  },
  {
   "cell_type": "code",
   "execution_count": 15,
   "metadata": {},
   "outputs": [
    {
     "data": {
      "text/plain": [
       "<matplotlib.axes._subplots.AxesSubplot at 0x2153bd3f148>"
      ]
     },
     "execution_count": 15,
     "metadata": {},
     "output_type": "execute_result"
    },
    {
     "data": {
      "image/png": "[encoded data removed]",
      "text/plain": [
       "<Figure size 720x720 with 1 Axes>"
      ]
     },
     "metadata": {
      "needs_background": "light"
     },
     "output_type": "display_data"
    }
   ],
   "source": [
    "plt.figure(figsize=(10,10))\n",
    "plt.tight_layout()\n",
    "seabornInstance.distplot(sd_df['Asian'])"
   ]
  },
  {
   "cell_type": "code",
   "execution_count": 16,
   "metadata": {},
   "outputs": [],
   "source": [
    "#  X = sd_df['Year'].values.reshape(-1,1)\n",
    "# y = sd_df['Asian'].values.reshape(-1,1)"
   ]
  },
  {
   "cell_type": "code",
   "execution_count": 17,
   "metadata": {},
   "outputs": [
    {
     "data": {
      "text/plain": [
       "array([26.03078556])"
      ]
     },
     "execution_count": 17,
     "metadata": {},
     "output_type": "execute_result"
    }
   ],
   "source": [
    "X_min = np.array([X.min()])\n",
    "X_max = np.array([X.max()])\n",
    "y_min = linreg.predict(X_min)\n",
    "y_max = linreg.predict(X_max)\n",
    "y_min\n",
    "# X.min()"
   ]
  },
  {
   "cell_type": "code",
   "execution_count": 18,
   "metadata": {},
   "outputs": [
    {
     "data": {
      "image/png": "[encoded data removed]",
      "text/plain": [
       "<Figure size 432x288 with 1 Axes>"
      ]
     },
     "metadata": {
      "needs_background": "light"
     },
     "output_type": "display_data"
    }
   ],
   "source": [
    "sd_df.plot(x='Year', y='Asian', style='o')  \n",
    "plt.title('Predict Race:')  \n",
    "plt.xlabel('Year')  \n",
    "plt.ylabel('Asian (%)')   \n",
    "plt.plot([X_min[0], X_max[0]], [y_min[0], y_max[0]], color='red', linewidth=2)\n",
    "plt.show()"
   ]
  },
  {
   "cell_type": "code",
   "execution_count": 19,
   "metadata": {},
   "outputs": [],
   "source": [
    "# X = sd_df['Year'].values.reshape(-1,1)\n",
    "# y = sd_df['Asian'].values.reshape(-1,1)"
   ]
  },
  {
   "cell_type": "code",
   "execution_count": 20,
   "metadata": {},
   "outputs": [
    {
     "data": {
      "text/html": [
       "<div>\n",
       "<style scoped>\n",
       "    .dataframe tbody tr th:only-of-type {\n",
       "        vertical-align: middle;\n",
       "    }\n",
       "\n",
       "    .dataframe tbody tr th {\n",
       "        vertical-align: top;\n",
       "    }\n",
       "\n",
       "    .dataframe thead th {\n",
       "        text-align: right;\n",
       "    }\n",
       "</style>\n",
       "<table border=\"1\" class=\"dataframe\">\n",
       "  <thead>\n",
       "    <tr style=\"text-align: right;\">\n",
       "      <th></th>\n",
       "      <th>Actual</th>\n",
       "      <th>Predicted</th>\n",
       "    </tr>\n",
       "  </thead>\n",
       "  <tbody>\n",
       "    <tr>\n",
       "      <td>105</td>\n",
       "      <td>35.4</td>\n",
       "      <td>1.0</td>\n",
       "    </tr>\n",
       "    <tr>\n",
       "      <td>35</td>\n",
       "      <td>28.8</td>\n",
       "      <td>1.0</td>\n",
       "    </tr>\n",
       "  </tbody>\n",
       "</table>\n",
       "</div>"
      ],
      "text/plain": [
       "     Actual  Predicted\n",
       "105    35.4        1.0\n",
       "35     28.8        1.0"
      ]
     },
     "execution_count": 20,
     "metadata": {},
     "output_type": "execute_result"
    }
   ],
   "source": [
    "sd_df = pd.DataFrame({'Actual': y_test, 'Predicted': y_pred})\n",
    "sd_df.head()"
   ]
  },
  {
   "cell_type": "code",
   "execution_count": null,
   "metadata": {},
   "outputs": [],
   "source": []
  }
 ],
 "metadata": {
  "kernelspec": {
   "display_name": "Python 3",
   "language": "python",
   "name": "python3"
  },
  "language_info": {
   "codemirror_mode": {
    "name": "ipython",
    "version": 3
   },
   "file_extension": ".py",
   "mimetype": "text/x-python",
   "name": "python",
   "nbconvert_exporter": "python",
   "pygments_lexer": "ipython3",
   "version": "3.7.4"
  }
 },
 "nbformat": 4,
 "nbformat_minor": 2
}
